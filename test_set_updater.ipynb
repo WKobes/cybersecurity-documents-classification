{
 "cells": [
  {
   "cell_type": "code",
   "execution_count": null,
   "metadata": {},
   "outputs": [],
   "source": [
    "import os\n",
    "import json"
   ]
  },
  {
   "cell_type": "code",
   "execution_count": null,
   "metadata": {},
   "outputs": [],
   "source": [
    "file_dir = os.path.abspath(os.curdir) + '/files/'\n",
    "relevant_dir = os.path.abspath(os.curdir) + '/training/relevant/'\n",
    "irrelevant_dir = os.path.abspath(os.curdir) + '/training/irrelevant/'\n",
    "\n",
    "test_relevant_dir = os.path.abspath(os.curdir) + '/test/relevant/'\n",
    "test_irrelevant_dir = os.path.abspath(os.curdir) + '/test/irrelevant/'\n",
    "\n",
    "\n",
    "\n",
    "def updater(folder_to_update):\n",
    "    for filename in os.listdir(folder_to_update):\n",
    "        \n",
    "        # Skip directories\n",
    "        if os.path.isdir(os.path.join(folder_to_update, filename)):\n",
    "            continue\n",
    "            \n",
    "        if os.path.exists(os.path.join(file_dir, filename)):\n",
    "        \n",
    "            # Open old file\n",
    "            with open(folder_to_update + filename, 'w') as file_old:\n",
    "                with open(file_dir + filename, 'r') as file_new:\n",
    "                    file_data = json.loads(file_new.read())\n",
    "                    file_old.write(json.dumps(file_data))\n",
    "        else:\n",
    "            print('{} does no longer exist in the orginal data folder {}!'.format(filename, folder_to_update))\n",
    "    return True\n",
    "\n",
    "print(\"Starting process!\")\n",
    "\n",
    "updater(relevant_dir)\n",
    "updater(irrelevant_dir)\n",
    "updater(test_relevant_dir)\n",
    "updater(test_irrelevant_dir)\n",
    "\n",
    "print(\"Done!\")\n",
    "    "
   ]
  }
 ],
 "metadata": {
  "kernelspec": {
   "display_name": "Python 3",
   "language": "python",
   "name": "python3"
  },
  "language_info": {
   "codemirror_mode": {
    "name": "ipython",
    "version": 3
   },
   "file_extension": ".py",
   "mimetype": "text/x-python",
   "name": "python",
   "nbconvert_exporter": "python",
   "pygments_lexer": "ipython3",
   "version": "3.4.2"
  }
 },
 "nbformat": 4,
 "nbformat_minor": 2
}
