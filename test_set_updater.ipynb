{
 "cells": [
  {
   "cell_type": "code",
   "execution_count": null,
   "metadata": {},
   "outputs": [],
   "source": [
    "import os\n",
    "import json"
   ]
  },
  {
   "cell_type": "code",
   "execution_count": null,
   "metadata": {},
   "outputs": [],
   "source": [
    "file_dir = os.path.abspath(os.curdir) + '/files/'\n",
    "test_set_dir = os.path.abspath(os.curdir) + '/training_set/'\n",
    "relevant_dir = os.path.abspath(os.curdir) + '/relevant/'\n",
    "not_relevant_dir = os.path.abspath(os.curdir) + '/not_relevant/'\n",
    "\n",
    "for filename in os.listdir(test_set_dir):\n",
    "    \n",
    "    # Skip directories\n",
    "    if os.path.isdir(os.path.join(test_set_dir, filename)):\n",
    "        continue\n",
    "    \n",
    "    if os.path.exists(os.path.join(file_dir, filename)):\n",
    "        # Open old file\n",
    "        with open(test_set_dir + filename, 'w') as file_old:\n",
    "            with open(file_dir + filename, 'r') as file_new:\n",
    "                file_data = json.loads(file_new.read())\n",
    "                file_old.write(json.dumps(file_data))\n",
    "                \n",
    "                if os.path.exists(os.path.join(relevant_dir, filename)):\n",
    "                    with open(relevant_dir + filename, 'w') as file_relevant:\n",
    "                        file_relevant.write(json.dumps(file_data))\n",
    "                elif os.path.exists(os.path.join(not_relevant_dir, filename)):\n",
    "                    with open(not_relevant_dir + filename, 'w') as file_not_relevant:\n",
    "                        file_not_relevant.write(json.dumps(file_data))\n",
    "    else:\n",
    "        print(filename + ' does no longer exist in the orginal data folder!')\n",
    "\n",
    "\n",
    "    "
   ]
  }
 ],
 "metadata": {
  "kernelspec": {
   "display_name": "Python 3",
   "language": "python",
   "name": "python3"
  },
  "language_info": {
   "codemirror_mode": {
    "name": "ipython",
    "version": 3
   },
   "file_extension": ".py",
   "mimetype": "text/x-python",
   "name": "python",
   "nbconvert_exporter": "python",
   "pygments_lexer": "ipython3",
   "version": "3.4.2"
  }
 },
 "nbformat": 4,
 "nbformat_minor": 2
}
