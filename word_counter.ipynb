{
 "cells": [
  {
   "cell_type": "code",
   "execution_count": null,
   "metadata": {},
   "outputs": [],
   "source": [
    "import json # To read JSON files\n",
    "import os # To access files\n",
    "from collections import Counter # Used to count the most occuring words in a file"
   ]
  },
  {
   "cell_type": "code",
   "execution_count": null,
   "metadata": {},
   "outputs": [],
   "source": [
    "WORDS_TO_COUNT = [ # The occurences of the words in this list are counted for every file\n",
    "    'cyber',\n",
    "    'security',\n",
    "    'cyber security',\n",
    "    'cybersecurity',\n",
    "    'ddos',\n",
    "    'hacker',\n",
    "    'cybercrime',\n",
    "    'digital',\n",
    "    'protection',\n",
    "]\n",
    "\n",
    "EXCLUDE_LIST = [ # These words are excluded when counting the most occuring words in a file\n",
    "    'and',\n",
    "    'the',\n",
    "    'of',\n",
    "    'to',\n",
    "    'for',\n",
    "    'in',\n",
    "    'a',\n",
    "    'on',\n",
    "    'that',\n",
    "    'be',\n",
    "    'as',\n",
    "    'or',\n",
    "    'not',\n",
    "]\n",
    "\n",
    "base_dir = os.path.abspath(os.curdir) + '/files/'\n",
    "\n",
    "for filename in os.listdir(base_dir):\n",
    "    \n",
    "    # Skip directories\n",
    "    if os.path.isdir(os.path.join(base_dir, filename)):\n",
    "        continue\n",
    "    \n",
    "    # Open every file\n",
    "    with open(base_dir + filename, 'r+') as file:\n",
    "        print(filename)\n",
    "        file_data = json.loads(file.read())\n",
    "\n",
    "        print('Starting with: ' + str(file_data['local_id']))\n",
    "        print('Located at: ' + str(file_data['direct_url']))\n",
    "\n",
    "        most_occur = Counter(word for word in file_data['content'].split() if word not in EXCLUDE_LIST).most_common(10)\n",
    "\n",
    "        print(\"Most occuring: \" + str(most_occur))\n",
    "\n",
    "\n",
    "        file_data.update({\n",
    "            'word_counts': {},\n",
    "            'most_common_words': dict(most_occur),\n",
    "        })\n",
    "    \n",
    "        for word in WORDS_TO_COUNT:\n",
    "            # print('Word \"'+ word + '\" occurs: ' + str(element['content'].lower().count(word.lower())) + ' times.')\n",
    "            file_data['word_counts'][word] = file_data['content'].count(word.lower())\n",
    "        \n",
    "        \n",
    "        file.seek(0)\n",
    "    \n",
    "        file.write(json.dumps(file_data))\n",
    "        \n",
    "        file.close()\n"
   ]
  }
 ],
 "metadata": {
  "kernelspec": {
   "display_name": "Python 3",
   "language": "python",
   "name": "python3"
  },
  "language_info": {
   "codemirror_mode": {
    "name": "ipython",
    "version": 3
   },
   "file_extension": ".py",
   "mimetype": "text/x-python",
   "name": "python",
   "nbconvert_exporter": "python",
   "pygments_lexer": "ipython3",
   "version": "3.4.2"
  }
 },
 "nbformat": 4,
 "nbformat_minor": 2
}
