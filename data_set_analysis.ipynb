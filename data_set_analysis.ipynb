{
 "cells": [
  {
   "cell_type": "code",
   "execution_count": null,
   "metadata": {},
   "outputs": [],
   "source": [
    "import os\n",
    "import json"
   ]
  },
  {
   "cell_type": "code",
   "execution_count": null,
   "metadata": {},
   "outputs": [],
   "source": [
    "files_dir = os.path.abspath(os.curdir) + '/files/'\n",
    "\n",
    "\n",
    "word_counts = []\n",
    "document_types = {}\n",
    "tmp = []\n",
    "\n",
    "# Loop through all relevant\n",
    "for filename in os.listdir(files_dir):\n",
    "    \n",
    "    # Skip directories\n",
    "    if os.path.isdir(os.path.join(files_dir, filename)):\n",
    "        continue\n",
    "    \n",
    "    \n",
    "    # Open every file\n",
    "    with open(files_dir + filename, 'r') as file:\n",
    "        \n",
    "        file_data = json.loads(file.read())\n",
    "        \n",
    "        word_counts.append(file_data['word_counts'].values())\n",
    "        \n",
    "        tmp = list(file_data['word_counts'].keys())\n",
    "        current_type = file_data['document_type']\n",
    "        \n",
    "        if current_type:\n",
    "            document_types[current_type] = document_types.get(current_type, 0) + 1\n",
    "        else:\n",
    "            document_types['Unknown'] = document_types.get('Unknown', 0) + 1\n",
    "\n",
    "averages = [sum(col) / float(len(col)) for col in zip(*word_counts)]\n",
    "relevant = dict(zip(tmp,averages))"
   ]
  },
  {
   "cell_type": "code",
   "execution_count": null,
   "metadata": {},
   "outputs": [],
   "source": [
    "# print(json.dumps(document_types, indent=2))\n",
    "\n",
    "# print(json.dumps(relevant, indent=2))\n",
    "\n",
    "print(json.dumps(document_types, indent=2))\n"
   ]
  }
 ],
 "metadata": {
  "kernelspec": {
   "display_name": "Python 3",
   "language": "python",
   "name": "python3"
  },
  "language_info": {
   "codemirror_mode": {
    "name": "ipython",
    "version": 3
   },
   "file_extension": ".py",
   "mimetype": "text/x-python",
   "name": "python",
   "nbconvert_exporter": "python",
   "pygments_lexer": "ipython3",
   "version": "3.4.2"
  }
 },
 "nbformat": 4,
 "nbformat_minor": 2
}
